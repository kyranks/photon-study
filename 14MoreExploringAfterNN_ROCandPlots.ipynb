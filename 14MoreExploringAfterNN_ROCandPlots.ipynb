{
 "cells": [
  {
   "cell_type": "code",
   "execution_count": 1,
   "id": "97fcaa08",
   "metadata": {},
   "outputs": [
    {
     "name": "stderr",
     "output_type": "stream",
     "text": [
      "2023-08-11 01:20:25.996473: W tensorflow/stream_executor/platform/default/dso_loader.cc:64] Could not load dynamic library 'libcudart.so.11.0'; dlerror: libcudart.so.11.0: cannot open shared object file: No such file or directory; LD_LIBRARY_PATH: /cvmfs/sft.cern.ch/lcg/releases/MCGenerators/thepeg/2.2.3-6fa5c/x86_64-centos7-gcc11-opt/lib/ThePEG:/cvmfs/sft.cern.ch/lcg/releases/MCGenerators/herwig++/7.2.3-c1d8e/x86_64-centos7-gcc11-opt/lib/Herwig:/cvmfs/sft.cern.ch/lcg/views/LCG_103swan/x86_64-centos7-gcc11-opt/lib/python3.9/site-packages/jaxlib/mlir/_mlir_libs:/cvmfs/sft.cern.ch/lcg/views/LCG_103swan/x86_64-centos7-gcc11-opt/lib/python3.9/site-packages/torch/lib:/cvmfs/sft.cern.ch/lcg/views/LCG_103swan/x86_64-centos7-gcc11-opt/lib/python3.9/site-packages/onnxruntime/capi/:/cvmfs/sft.cern.ch/lcg/views/LCG_103swan/x86_64-centos7-gcc11-opt/lib/python3.9/site-packages/tensorflow:/cvmfs/sft.cern.ch/lcg/views/LCG_103swan/x86_64-centos7-gcc11-opt/lib/python3.9/site-packages/tensorflow/contrib/tensor_forest:/cvmfs/sft.cern.ch/lcg/views/LCG_103swan/x86_64-centos7-gcc11-opt/lib/python3.9/site-packages/tensorflow/python/framework:/cvmfs/sft.cern.ch/lcg/releases/java/11.0.14p1-8284a/x86_64-centos7-gcc11-opt/jre/lib/amd64:/cvmfs/sft.cern.ch/lcg/views/LCG_103swan/x86_64-centos7-gcc11-opt/lib64:/cvmfs/sft.cern.ch/lcg/views/LCG_103swan/x86_64-centos7-gcc11-opt/lib:/cvmfs/sft.cern.ch/lcg/releases/gcc/11.3.0-ad0f5/x86_64-centos7/lib:/cvmfs/sft.cern.ch/lcg/releases/gcc/11.3.0-ad0f5/x86_64-centos7/lib64:/cvmfs/sft.cern.ch/lcg/releases/binutils/2.37-355ed/x86_64-centos7/lib:/usr/local/lib/:/cvmfs/sft.cern.ch/lcg/releases/R/4.1.2-23baf/x86_64-centos7-gcc11-opt/lib64/R/library/readr/rcon\n",
      "2023-08-11 01:20:25.996542: I tensorflow/stream_executor/cuda/cudart_stub.cc:29] Ignore above cudart dlerror if you do not have a GPU set up on your machine.\n"
     ]
    },
    {
     "name": "stdout",
     "output_type": "stream",
     "text": [
      "Welcome to JupyROOT 6.28/00\n"
     ]
    }
   ],
   "source": [
    "#John's\n",
    "import numpy as np\n",
    "import tensorflow as tf\n",
    "import os\n",
    "import time\n",
    "import sys\n",
    "import matplotlib.pyplot as plt\n",
    "from sklearn.metrics import roc_curve, auc\n",
    "from datetime import datetime\n",
    "import statistics as stat\n",
    "import ROOT\n",
    "now = datetime.utcnow().strftime(\"%y%m%d%H%M%S\")"
   ]
  },
  {
   "cell_type": "code",
   "execution_count": 2,
   "id": "b2ddd25c",
   "metadata": {},
   "outputs": [],
   "source": [
    "#Mine\n",
    "import uproot\n",
    "import pandas as pd\n",
    "# import numpy as np\n",
    "import boost_histogram as bh\n",
    "# import matplotlib.pyplot as plt\n",
    "import pickle\n",
    "import gc\n",
    "import atlasplots as ap\n",
    "%matplotlib inline"
   ]
  },
  {
   "cell_type": "code",
   "execution_count": 123,
   "id": "929cf0a9",
   "metadata": {},
   "outputs": [],
   "source": [
    "version = 'full_v02'\n",
    "conv = 'unconv'\n",
    "size = '.5mil'\n",
    "first = 500000   #first ____ events that were used for training. should = size\n",
    "stand = False\n",
    "weightstr = 'finalWeight'\n",
    "\n",
    "#-------------------------------------------------------------------------------------------------------------\n",
    "\n",
    "if stand == False:\n",
    "    standstr = 'nonstand'\n",
    "elif stand == True:\n",
    "    standstr = ''\n",
    "\n",
    "nameofmodel_even = 'fclass_'+version+conv+'_'+size+standstr+'_even'\n",
    "nameofmodel_odd = 'fclass_'+version+conv+'_'+size+standstr+'_odd'"
   ]
  },
  {
   "cell_type": "code",
   "execution_count": 124,
   "id": "47a5a2bb",
   "metadata": {},
   "outputs": [],
   "source": [
    "with open('TRAININGTEST/models/'+nameofmodel_even+'.json') as file:\n",
    "    f_even = tf.keras.models.model_from_json(file.read())\n",
    "\n",
    "with open('TRAININGTEST/models/'+nameofmodel_odd+'.json') as file:\n",
    "    f_odd = tf.keras.models.model_from_json(file.read())"
   ]
  },
  {
   "cell_type": "code",
   "execution_count": 125,
   "id": "00ba4ef6",
   "metadata": {},
   "outputs": [],
   "source": [
    "f_even.load_weights('TRAININGTEST/models/'+nameofmodel_even+'.h5')\n",
    "f_odd.load_weights('TRAININGTEST/models/'+nameofmodel_odd+'.h5')"
   ]
  },
  {
   "cell_type": "code",
   "execution_count": null,
   "id": "91bd8e19",
   "metadata": {},
   "outputs": [],
   "source": []
  },
  {
   "cell_type": "code",
   "execution_count": 126,
   "id": "fe85e596",
   "metadata": {},
   "outputs": [],
   "source": [
    "df_ea = pickle.load(open('TRAININGTEST/data/'+version+'_e'+conv[0]+'2mil_a.pickle', 'rb'))   #even\n",
    "df_ez = pickle.load(open('TRAININGTEST/data/'+version+'_e'+conv[0]+'2mil_z.pickle', 'rb'))\n",
    "df_oa = pickle.load(open('TRAININGTEST/data/'+version+'_o'+conv[0]+'2mil_a.pickle', 'rb'))\n",
    "df_oz = pickle.load(open('TRAININGTEST/data/'+version+'_o'+conv[0]+'2mil_z.pickle', 'rb'))   #odd"
   ]
  },
  {
   "cell_type": "code",
   "execution_count": 127,
   "id": "fab11f50",
   "metadata": {},
   "outputs": [],
   "source": [
    "# #IF WANT TO PREDICT ON WHOLE 4mil EVENTS FROM a AND z FILES\n",
    "# df_even = pd.concat([df_ea,df_ez])\n",
    "# df_odd = pd.concat([df_oa,df_oz])\n",
    "# del df_ea\n",
    "# del df_ez\n",
    "# del df_oa\n",
    "# del df_oz\n",
    "# gc.collect()"
   ]
  },
  {
   "cell_type": "code",
   "execution_count": 128,
   "id": "57ffaa69",
   "metadata": {},
   "outputs": [
    {
     "data": {
      "text/plain": [
       "53534"
      ]
     },
     "execution_count": 128,
     "metadata": {},
     "output_type": "execute_result"
    }
   ],
   "source": [
    "#IF WANT 'TRAIN' AND 'TEST' PREDICTIONS TO BE JUST EVENTS TRAINED/TESTED ON  (only <size> each, like in NNtraining.py)\n",
    "df_even = df_ea[:first]\n",
    "df_odd = df_oa[:first]\n",
    "del df_ea\n",
    "del df_ez\n",
    "del df_oa\n",
    "del df_oz\n",
    "gc.collect()"
   ]
  },
  {
   "cell_type": "code",
   "execution_count": 129,
   "id": "ad077095",
   "metadata": {},
   "outputs": [],
   "source": [
    "features_stand = ['HadLeakage_stand', 'y_Reta_stand', 'y_Rphi_stand', 'y_weta2_stand',\n",
    "                   'y_wtots1_stand', 'y_weta1_stand', 'y_fracs1_stand', 'y_deltae_stand',\n",
    "                   'y_Eratio_stand', 'y_f1_stand']\n",
    "features = ['HadLeakage', 'y_Reta', 'y_weta2', 'y_Rphi', 'y_wtots1', \n",
    "            'y_weta1', 'y_fracs1', 'y_deltae', 'y_Eratio', 'y_f1']"
   ]
  },
  {
   "cell_type": "code",
   "execution_count": 130,
   "id": "19fb7458",
   "metadata": {},
   "outputs": [],
   "source": [
    "if stand == True:\n",
    "    featlist = features_stand\n",
    "elif stand == False:\n",
    "    featlist = features"
   ]
  },
  {
   "cell_type": "code",
   "execution_count": 131,
   "id": "feebaa02",
   "metadata": {},
   "outputs": [],
   "source": [
    "features_even_train = np.array(df_even[featlist])\n",
    "labels_even_train   = np.array(df_even['y_isTruthMatchedPhoton'])\n",
    "weights_even_train  = np.array(df_even[weightstr])\n",
    "features_odd_train = np.array(df_odd[featlist])\n",
    "labels_odd_train   = np.array(df_odd['y_isTruthMatchedPhoton'])\n",
    "weights_odd_train  = np.array(df_odd[weightstr])\n",
    "\n",
    "features_even_test = features_odd_train\n",
    "labels_even_test = features_odd_train\n",
    "weights_even_test = features_odd_train\n",
    "features_odd_test = features_even_train\n",
    "labels_odd_test = features_even_train\n",
    "weights_odd_test = features_even_train"
   ]
  },
  {
   "cell_type": "code",
   "execution_count": 132,
   "id": "e633839a",
   "metadata": {},
   "outputs": [],
   "source": [
    "y_pred_testeven = f_even.predict(features_even_test).ravel()   #predicting the odd events (even test), using the even model\n"
   ]
  },
  {
   "cell_type": "code",
   "execution_count": 133,
   "id": "82dd9db4",
   "metadata": {},
   "outputs": [],
   "source": [
    "y_pred_testodd = f_odd.predict(features_odd_test).ravel()    #predicting the even events (odd test), using the odd model"
   ]
  },
  {
   "cell_type": "code",
   "execution_count": 134,
   "id": "4a16ec1d",
   "metadata": {},
   "outputs": [],
   "source": [
    "y_pred_traineven = f_even.predict(features_even_train).ravel()   #\"predicting\" the even, using the even model\n"
   ]
  },
  {
   "cell_type": "code",
   "execution_count": 135,
   "id": "22314904",
   "metadata": {},
   "outputs": [],
   "source": [
    "y_pred_trainodd = f_odd.predict(features_odd_train).ravel()    #\"predicting\" the odd, using the odd model"
   ]
  },
  {
   "cell_type": "code",
   "execution_count": 136,
   "id": "5bd67519",
   "metadata": {},
   "outputs": [],
   "source": [
    "df_all = pd.concat([df_even,df_odd])\n",
    "y_pred_test = np.concatenate((y_pred_testodd,y_pred_testeven))   #TESTODD means even events, TESTEVEN means odd events\n",
    "y_pred_train = np.concatenate((y_pred_traineven,y_pred_trainodd))\n",
    "\n",
    "df_all['y_pred_test'] = y_pred_test\n",
    "df_all['y_pred_train'] = y_pred_train"
   ]
  },
  {
   "cell_type": "code",
   "execution_count": null,
   "id": "67f5d914",
   "metadata": {},
   "outputs": [],
   "source": []
  },
  {
   "cell_type": "code",
   "execution_count": 17,
   "id": "54260646",
   "metadata": {},
   "outputs": [],
   "source": [
    "TightIDtuple = (0.9125338241031228, 0.7782203268877278)\n",
    "TightIDtuple = (0.9498026, 0.7725793)"
   ]
  },
  {
   "cell_type": "code",
   "execution_count": 18,
   "id": "193504cb",
   "metadata": {},
   "outputs": [],
   "source": [
    "# fprID,tprID,threshID = roc_curve(labels,df_all.y_IsTight.ravel()*1,sample_weight=weights)\n",
    "# 1-fprID,tprID"
   ]
  },
  {
   "cell_type": "code",
   "execution_count": 19,
   "id": "e277e09f",
   "metadata": {},
   "outputs": [
    {
     "data": {
      "image/png": "[encoded data removed]",
      "text/plain": [
       "<Figure size 432x288 with 1 Axes>"
      ]
     },
     "metadata": {
      "needs_background": "light"
     },
     "output_type": "display_data"
    }
   ],
   "source": [
    "labels = df_all.y_isTruthMatchedPhoton.ravel()\n",
    "weights = df_all.finalWeight.ravel()\n",
    "\n",
    "#SWITCH IF DONT HAVE TIGHT ID IN DATAFRAMES\n",
    "fprID,tprID,threshID = roc_curve(labels,df_all.y_IsTight.ravel()*1,sample_weight=weights)\n",
    "# fprID=[0,1-TightIDtuple[0]];tprID=[0,TightIDtuple[1]]\n",
    "\n",
    "fpr_test, tpr_test, thresholds_test = roc_curve(labels,y_pred_test,sample_weight = weights)\n",
    "fpr_train, tpr_train, thresholds_train = roc_curve(labels,y_pred_train,sample_weight = weights)\n",
    "plt.plot([1,0],[0,1],'k--',linewidth=1)\n",
    "plt.plot(1-fpr_train, tpr_train,label='train')\n",
    "plt.plot(1-fpr_test, tpr_test,label='test')\n",
    "plt.scatter(1-fprID[1],tprID[1],label='TightID',c='k',s=4)\n",
    "plt.plot([0,1-fprID[1]],[tprID[1],tprID[1]],'k--',linewidth=.5)\n",
    "plt.plot([1-fprID[1],1-fprID[1]],[0,tprID[1]],'k--',linewidth=.5)\n",
    "\n",
    "plt.grid(alpha=0.2)\n",
    "plt.xlabel('Background Rejection')\n",
    "plt.ylabel('Signal Efficiency')\n",
    "plt.title('ROC Curve\\n'+version+conv+size+standstr);plt.legend()\n",
    "plt.text(0.11, 0.25, 'ATLAS Internal', weight='bold',horizontalalignment='center', verticalalignment='center')\n",
    "plt.savefig('plots/ROC/'+version+conv+size+standstr+'_ROC.png',dpi=360,format='png')\n",
    "plt.show()\n",
    "plt.close()"
   ]
  },
  {
   "cell_type": "code",
   "execution_count": 20,
   "id": "123406b0",
   "metadata": {},
   "outputs": [
    {
     "data": {
      "image/png": "[encoded data removed]",
      "text/plain": [
       "<Figure size 432x288 with 1 Axes>"
      ]
     },
     "metadata": {
      "needs_background": "light"
     },
     "output_type": "display_data"
    }
   ],
   "source": [
    "lab1 = df_even.y_isTruthMatchedPhoton.ravel()\n",
    "lab2 = df_odd.y_isTruthMatchedPhoton.ravel()\n",
    "weights1 = df_even.finalWeight.ravel()\n",
    "weights2 = df_odd.finalWeight.ravel()\n",
    "\n",
    "\n",
    "fprID1,tprID1,threshID1 = roc_curve(lab1,df_even.y_IsTight.ravel()*1,sample_weight=weights1)\n",
    "fprID2,tprID2,threshID2 = roc_curve(lab2,df_odd.y_IsTight.ravel()*1,sample_weight=weights2)\n",
    "\n",
    "\n",
    "fpr_test, tpr_test, thresholds_test = roc_curve(lab1,y_pred_testodd,sample_weight = weights1)\n",
    "fpr_train, tpr_train, thresholds_train = roc_curve(lab1,y_pred_traineven,sample_weight = weights1)\n",
    "fpr_test2, tpr_test2, thresholds_test2 = roc_curve(lab2,y_pred_testeven,sample_weight = weights2)\n",
    "fpr_train2, tpr_train2, thresholds_train2 = roc_curve(lab2,y_pred_trainodd,sample_weight = weights2)\n",
    "plt.plot([1,0],[0,1],'k--')\n",
    "plt.plot(1-fpr_train, tpr_train,label='train (evenevnts)')\n",
    "plt.plot(1-fpr_test, tpr_test,label='test (evenevnts)')\n",
    "plt.plot(1-fpr_train2, tpr_train2,label='train (oddevnts)')\n",
    "plt.plot(1-fpr_test2, tpr_test2,label='test (oddevnts)')\n",
    "plt.scatter(1-fprID[1],tprID[1],label='TightID',c='k',s=4)\n",
    "plt.plot([0,1-fprID[1]],[tprID[1],tprID[1]],'k--',linewidth=.5)\n",
    "plt.plot([1-fprID[1],1-fprID[1]],[0,tprID[1]],'k--',linewidth=.5)\n",
    "\n",
    "plt.grid(alpha=.2)\n",
    "plt.xlabel('Background Rejection')\n",
    "plt.ylabel('Signal Efficiency')\n",
    "plt.title('ROC Curve\\neven and odd events, '+version+conv+size+standstr);plt.legend()\n",
    "plt.text(0.11, 0.41, 'ATLAS Internal', weight='bold',horizontalalignment='center', verticalalignment='center')\n",
    "plt.savefig('plots/ROC/'+version+conv+size+standstr+'_ROCeo.png',dpi=360,format='png')\n",
    "plt.show()\n",
    "plt.close()"
   ]
  },
  {
   "cell_type": "code",
   "execution_count": null,
   "id": "fb5a7a62",
   "metadata": {},
   "outputs": [],
   "source": []
  },
  {
   "cell_type": "code",
   "execution_count": null,
   "id": "4b3b40e0",
   "metadata": {},
   "outputs": [],
   "source": []
  },
  {
   "cell_type": "code",
   "execution_count": null,
   "id": "45f79dea",
   "metadata": {},
   "outputs": [],
   "source": []
  },
  {
   "cell_type": "code",
   "execution_count": 21,
   "id": "c2d4cf1b",
   "metadata": {},
   "outputs": [
    {
     "data": {
      "text/plain": [
       "Index(['mcTotWeight', 'goodWeight', 'finalWeight', 'y_pt', 'y_eta',\n",
       "       'y_isTruthMatchedPhoton', 'y_convType', 'HadLeakage', 'y_Reta',\n",
       "       'y_weta2', 'y_Rphi', 'y_wtots1', 'y_weta1', 'y_fracs1', 'y_deltae',\n",
       "       'y_Eratio', 'y_f1', 'HadLeakage_stand', 'y_Reta_stand', 'y_Rphi_stand',\n",
       "       'y_weta2_stand', 'y_wtots1_stand', 'y_weta1_stand', 'y_fracs1_stand',\n",
       "       'y_deltae_stand', 'y_Eratio_stand', 'y_f1_stand', 'y_iso_FixedCutLoose',\n",
       "       'y_iso_FixedCutTight', 'y_iso_FixedCutTightCaloOnly',\n",
       "       'y_topoetcone20ptCorrection', 'y_topoetcone30ptCorrection',\n",
       "       'y_topoetcone40ptCorrection', 'y_IsLoose', 'y_IsLoosePrime2',\n",
       "       'y_IsLoosePrime3', 'y_IsLoosePrime4', 'y_IsTight', 'y_IsEMTight',\n",
       "       'y_pred_test', 'y_pred_train'],\n",
       "      dtype='object')"
      ]
     },
     "execution_count": 21,
     "metadata": {},
     "output_type": "execute_result"
    }
   ],
   "source": [
    "df_all.columns"
   ]
  },
  {
   "cell_type": "code",
   "execution_count": 22,
   "id": "c4f9d52b",
   "metadata": {},
   "outputs": [
    {
     "data": {
      "text/plain": [
       "0         False\n",
       "2          True\n",
       "4          True\n",
       "6          True\n",
       "8          True\n",
       "          ...  \n",
       "999991    False\n",
       "999993    False\n",
       "999995    False\n",
       "999997    False\n",
       "999999     True\n",
       "Name: y_iso_FixedCutLoose, Length: 1000000, dtype: bool"
      ]
     },
     "execution_count": 22,
     "metadata": {},
     "output_type": "execute_result"
    }
   ],
   "source": [
    "df_all.y_iso_FixedCutLoose"
   ]
  },
  {
   "cell_type": "code",
   "execution_count": null,
   "id": "aad71b0b",
   "metadata": {},
   "outputs": [],
   "source": []
  },
  {
   "cell_type": "code",
   "execution_count": 23,
   "id": "456b01c0",
   "metadata": {},
   "outputs": [],
   "source": [
    "#figuring out the thresholds at TIGHTID:\n",
    "\n",
    "#just going to go with df_all, and test\n",
    "\n",
    "#fpr\n",
    "indexsig = np.where(fpr_test < fprID[1])[0][-1]\n",
    "sig_thresh = thresholds_test[indexsig]\n",
    "\n",
    "#tpr\n",
    "indexbkg = np.where(tpr_test < tprID[1])[0][-1]\n",
    "bkg_thresh = thresholds_test[indexbkg]"
   ]
  },
  {
   "cell_type": "code",
   "execution_count": 24,
   "id": "34428f32",
   "metadata": {},
   "outputs": [
    {
     "data": {
      "text/plain": [
       "(0.8154291, 0.8039186)"
      ]
     },
     "execution_count": 24,
     "metadata": {},
     "output_type": "execute_result"
    }
   ],
   "source": [
    "sig_thresh,bkg_thresh"
   ]
  },
  {
   "cell_type": "code",
   "execution_count": 25,
   "id": "5231c078",
   "metadata": {},
   "outputs": [
    {
     "name": "stdout",
     "output_type": "stream",
     "text": [
      "Matching Background Rejection Threshold:\n",
      "NN threshold: 0.8154291\n",
      "Background Rejection: 0.9501903030918512\n",
      "Sig Eff. of NN:      0.7627807338193205\n",
      "Sig Eff. of TightID: 0.773431576563179\n",
      "NN better than TightID? False by 0.010650842743858413\n"
     ]
    },
    {
     "data": {
      "text/plain": [
       "(0.9501903030918512, 0.7627807338193205, 0.9501900284372565, 0.773431576563179)"
      ]
     },
     "execution_count": 25,
     "metadata": {},
     "output_type": "execute_result"
    }
   ],
   "source": [
    "print('Matching Background Rejection Threshold:')\n",
    "print('NN threshold:',sig_thresh)\n",
    "print('Background Rejection:',1-fpr_test[indexsig])\n",
    "print('Sig Eff. of NN:     ', tpr_test[indexsig])\n",
    "print('Sig Eff. of TightID:',tprID[1])\n",
    "print('NN better than TightID?',tpr_test[indexsig]>tprID[1],'by',abs(tpr_test[indexsig]-tprID[1]))\n",
    "1-fpr_test[indexsig],tpr_test[indexsig],1-fprID[1],tprID[1]"
   ]
  },
  {
   "cell_type": "code",
   "execution_count": 26,
   "id": "69fe0c28",
   "metadata": {},
   "outputs": [
    {
     "name": "stdout",
     "output_type": "stream",
     "text": [
      "Matching Signal Efficiency Threshold:\n",
      "NN threshold: 0.8039186\n",
      "Signal Efficiency: 0.773430530690416\n",
      "Bkg Rej. of NN:      0.948335922962041\n",
      "Bkg Rej. of TightID: 0.9501900284372565\n",
      "NN better than TightID? False by 0.0018541054752155839\n"
     ]
    },
    {
     "data": {
      "text/plain": [
       "(0.948335922962041, 0.773430530690416, 0.9501900284372565, 0.773431576563179)"
      ]
     },
     "execution_count": 26,
     "metadata": {},
     "output_type": "execute_result"
    }
   ],
   "source": [
    "print('Matching Signal Efficiency Threshold:')\n",
    "print('NN threshold:',bkg_thresh)\n",
    "print('Signal Efficiency:',tpr_test[indexbkg])\n",
    "print('Bkg Rej. of NN:     ', 1-fpr_test[indexbkg])\n",
    "print('Bkg Rej. of TightID:',1-fprID[1])\n",
    "print('NN better than TightID?',(1-fpr_test[indexbkg])>(1-fprID[1]),'by',abs((1-fpr_test[indexbkg])-(1-fprID[1])))\n",
    "1-fpr_test[indexbkg],tpr_test[indexbkg],1-fprID[1],tprID[1]"
   ]
  },
  {
   "cell_type": "code",
   "execution_count": 27,
   "id": "d237f0fb",
   "metadata": {},
   "outputs": [],
   "source": [
    "with open('plots/ROC/'+version+conv+size+standstr+'_ROC.txt', 'w') as f:\n",
    "    f.write('Matching Background Rejection Threshold:\\n')\n",
    "    f.write('NN threshold: '+str(sig_thresh)+'\\n')\n",
    "    f.write('Background Rejection: '+str(1-fpr_test[indexsig])+'\\n')\n",
    "    f.write('Sig Eff. of NN:      '+str(tpr_test[indexsig])+'\\n')\n",
    "    f.write('Sig Eff. of TightID: '+str(tprID[1])+'\\n')\n",
    "    f.write('NN better than TightID? '+str(tpr_test[indexsig]>tprID[1])+' by '+str(abs(tpr_test[indexsig]-tprID[1]))+'\\n')\n",
    "    f.write(''+'\\n')\n",
    "#     f.write(1-fpr_test[indexsig],tpr_test[indexsig],1-fprID[1],tprID[1])\n",
    "    f.write('Matching Signal Efficiency Threshold:'+'\\n')\n",
    "    f.write('NN threshold: '+str(bkg_thresh)+'\\n')\n",
    "    f.write('Signal Efficiency: '+str(tpr_test[indexbkg])+'\\n')\n",
    "    f.write('Bkg Rej. of NN:      '+ str(1-fpr_test[indexbkg])+'\\n')\n",
    "    f.write('Bkg Rej. of TightID: '+str(1-fprID[1])+'\\n')\n",
    "    f.write('NN better than TightID? '+str((1-fpr_test[indexbkg])>(1-fprID[1]))+' by '+str(abs((1-fpr_test[indexbkg])-(1-fprID[1])))+'\\n')\n",
    "    f.write('\\n')\n",
    "    f.close()\n",
    "#     f.write(1-fpr_test[indexbkg],tpr_test[indexbkg],1-fprID[1],tprID[1])"
   ]
  },
  {
   "cell_type": "code",
   "execution_count": null,
   "id": "d056a8d4",
   "metadata": {},
   "outputs": [],
   "source": []
  },
  {
   "cell_type": "code",
   "execution_count": null,
   "id": "2dda546a",
   "metadata": {},
   "outputs": [],
   "source": []
  },
  {
   "cell_type": "code",
   "execution_count": 28,
   "id": "44d57204",
   "metadata": {},
   "outputs": [],
   "source": [
    "# df_all[['y_topoetcone20ptCorrection','y_topoetcone30ptCorrection','y_topoetcone40ptCorrection']]"
   ]
  },
  {
   "cell_type": "code",
   "execution_count": 29,
   "id": "c716379b",
   "metadata": {},
   "outputs": [],
   "source": [
    "\n",
    "# from matplotlib import pyplot as PLT\n",
    "from matplotlib import cm as CM\n",
    "from matplotlib import mlab as ML\n",
    "# import numpy as NP\n",
    "\n",
    "import matplotlib.colors as colors"
   ]
  },
  {
   "cell_type": "code",
   "execution_count": 30,
   "id": "86323795",
   "metadata": {},
   "outputs": [],
   "source": [
    "sig = np.array(df_all.y_isTruthMatchedPhoton)\n",
    "bkg = np.array(~df_all.y_isTruthMatchedPhoton)"
   ]
  },
  {
   "cell_type": "code",
   "execution_count": 31,
   "id": "b8a60116",
   "metadata": {},
   "outputs": [],
   "source": [
    "# ##y_topoetcone20ptCorrection   sig\n",
    "# xsig = df_all.y_pred_test.ravel()[sig]\n",
    "# xbkg = df_all.y_pred_test.ravel()[bkg]\n",
    "\n",
    "\n",
    "# ysig = df_all.y_topoetcone20ptCorrection.ravel()[sig]\n",
    "\n",
    "# heatmap, xedges, yedges = np.histogram2d(xsig, ysig, bins=1000, weights=df_all.finalWeight.ravel()[sig])\n",
    "# extent = [xedges[0], xedges[-1], yedges[0], yedges[-1]]\n",
    "\n",
    "# plt.clf()\n",
    "# plt.imshow(heatmap.T, origin='lower',cmap=CM.jet, norm=colors.LogNorm(vmin=0.001))#,extent=extent)\n",
    "\n",
    "# cb = plt.colorbar()\n",
    "# cb.set_label('weighted count') \n",
    "\n",
    "# plt.title('y_topoetcone20ptCorrection SIGNAL')\n",
    "# plt.xlabel('NN test Score (wrong scale)')\n",
    "# plt.ylabel('y_topoetcone20ptCorrection (wrong scale)')\n",
    "# plt.show()\n",
    "\n"
   ]
  },
  {
   "cell_type": "code",
   "execution_count": 32,
   "id": "c6ff5eb0",
   "metadata": {},
   "outputs": [],
   "source": [
    "# ##y_topoetcone20ptCorrection   bkg\n",
    "# xsig = df_all.y_pred_test.ravel()[sig]\n",
    "# xbkg = df_all.y_pred_test.ravel()[bkg]\n",
    "\n",
    "\n",
    "# ybkg = df_all.y_topoetcone20ptCorrection.ravel()[bkg]\n",
    "\n",
    "# heatmap, xedges, yedges = np.histogram2d(xbkg, ybkg, bins=1000, weights=df_all.finalWeight.ravel()[bkg])\n",
    "# extent = [xedges[0], xedges[-1], yedges[0], yedges[-1]]\n",
    "\n",
    "# plt.clf()\n",
    "# plt.imshow(heatmap.T, origin='lower',cmap=CM.jet, norm=colors.LogNorm(vmin=0.001))#,extent=extent)\n",
    "\n",
    "# cb = plt.colorbar()\n",
    "# cb.set_label('weighted count') \n",
    "\n",
    "# plt.title('y_topoetcone20ptCorrection BKG')\n",
    "# plt.xlabel('NN test Score (wrong scale)')\n",
    "# plt.ylabel('y_topoetcone20ptCorrection (wrong scale)')\n",
    "# plt.show()\n"
   ]
  },
  {
   "cell_type": "code",
   "execution_count": 33,
   "id": "53418d29",
   "metadata": {},
   "outputs": [],
   "source": [
    "#30 and 40 look pretty much the same"
   ]
  },
  {
   "cell_type": "code",
   "execution_count": 34,
   "id": "cf08c2f3",
   "metadata": {},
   "outputs": [],
   "source": [
    "# ##now with TightID\n",
    "# ##y_topoetcone20ptCorrection   sig\n",
    "# xsig = df_all.y_IsTight.ravel()[sig]*1\n",
    "# xbkg = df_all.y_IsTight.ravel()[bkg]*1\n",
    "\n",
    "\n",
    "# ysig = df_all.y_topoetcone20ptCorrection.ravel()[sig]\n",
    "\n",
    "# heatmap, xedges, yedges = np.histogram2d(xsig, ysig, bins=[4,50], weights=df_all.finalWeight.ravel()[sig])\n",
    "# extent = [xedges[0], xedges[-1], yedges[0], yedges[-1]]\n",
    "\n",
    "# plt.clf()\n",
    "# plt.imshow(heatmap.T, origin='lower',cmap=CM.jet, norm=colors.LogNorm(vmin=0.001))#,extent=extent)\n",
    "\n",
    "# cb = plt.colorbar()\n",
    "# cb.set_label('weighted count') \n",
    "\n",
    "# plt.title('y_topoetcone20ptCorrection SIGNAL')\n",
    "# plt.xlabel('TightID (wrong scale)')\n",
    "# plt.ylabel('y_topoetcone20ptCorrection (wrong scale)')\n",
    "# plt.show()\n"
   ]
  },
  {
   "cell_type": "code",
   "execution_count": 35,
   "id": "a924de3a",
   "metadata": {},
   "outputs": [],
   "source": [
    "# np.histogram2d?"
   ]
  },
  {
   "cell_type": "code",
   "execution_count": null,
   "id": "ace8808f",
   "metadata": {},
   "outputs": [],
   "source": []
  },
  {
   "cell_type": "code",
   "execution_count": 36,
   "id": "3f2ef333",
   "metadata": {},
   "outputs": [],
   "source": [
    "# df_all.y_IsLoose.ravel()"
   ]
  },
  {
   "cell_type": "code",
   "execution_count": null,
   "id": "c71086ed",
   "metadata": {},
   "outputs": [],
   "source": []
  },
  {
   "cell_type": "code",
   "execution_count": 37,
   "id": "11f023b6",
   "metadata": {},
   "outputs": [],
   "source": [
    "from sklearn.metrics import confusion_matrix, ConfusionMatrixDisplay\n",
    "\n",
    "# weight = df_all.finalWeight.ravel()[loose]\n",
    "# matrix = confusion_matrix(y, x,sample_weight=weight)  #first is y axis, second is x axis\n"
   ]
  },
  {
   "cell_type": "code",
   "execution_count": 38,
   "id": "989156e8",
   "metadata": {},
   "outputs": [
    {
     "ename": "NameError",
     "evalue": "name 'matrix' is not defined",
     "output_type": "error",
     "traceback": [
      "\u001b[0;31m---------------------------------------------------------------------------\u001b[0m",
      "\u001b[0;31mNameError\u001b[0m                                 Traceback (most recent call last)",
      "\u001b[0;32m/tmp/ipykernel_2206/1719800954.py\u001b[0m in \u001b[0;36m<module>\u001b[0;34m\u001b[0m\n\u001b[0;32m----> 1\u001b[0;31m \u001b[0mdisp\u001b[0m \u001b[0;34m=\u001b[0m \u001b[0mConfusionMatrixDisplay\u001b[0m\u001b[0;34m(\u001b[0m\u001b[0mconfusion_matrix\u001b[0m\u001b[0;34m=\u001b[0m\u001b[0mmatrix\u001b[0m\u001b[0;34m,\u001b[0m\u001b[0mdisplay_labels\u001b[0m\u001b[0;34m=\u001b[0m\u001b[0;34m[\u001b[0m\u001b[0;34m'False'\u001b[0m\u001b[0;34m,\u001b[0m \u001b[0;34m'True'\u001b[0m\u001b[0;34m]\u001b[0m\u001b[0;34m)\u001b[0m\u001b[0;34m\u001b[0m\u001b[0;34m\u001b[0m\u001b[0m\n\u001b[0m\u001b[1;32m      2\u001b[0m \u001b[0;34m\u001b[0m\u001b[0m\n\u001b[1;32m      3\u001b[0m \u001b[0mdisp\u001b[0m\u001b[0;34m.\u001b[0m\u001b[0mplot\u001b[0m\u001b[0;34m(\u001b[0m\u001b[0;34m)\u001b[0m\u001b[0;34m\u001b[0m\u001b[0;34m\u001b[0m\u001b[0m\n\u001b[1;32m      4\u001b[0m \u001b[0mplt\u001b[0m\u001b[0;34m.\u001b[0m\u001b[0mylabel\u001b[0m\u001b[0;34m(\u001b[0m\u001b[0;34m'IsTight ID'\u001b[0m\u001b[0;34m)\u001b[0m\u001b[0;34m\u001b[0m\u001b[0;34m\u001b[0m\u001b[0m\n\u001b[1;32m      5\u001b[0m \u001b[0mplt\u001b[0m\u001b[0;34m.\u001b[0m\u001b[0mxlabel\u001b[0m\u001b[0;34m(\u001b[0m\u001b[0;34m'NN Threshold ID (sig. thresh.)'\u001b[0m\u001b[0;34m)\u001b[0m\u001b[0;34m\u001b[0m\u001b[0;34m\u001b[0m\u001b[0m\n",
      "\u001b[0;31mNameError\u001b[0m: name 'matrix' is not defined"
     ]
    }
   ],
   "source": [
    "# disp = ConfusionMatrixDisplay(confusion_matrix=matrix,display_labels=['False', 'True'])\n",
    "\n",
    "# disp.plot()\n",
    "# plt.ylabel('IsTight ID')\n",
    "# plt.xlabel('NN Threshold ID (sig. thresh.)')\n",
    "# # plt.imshow(norm=colors.LogNorm())\n",
    "# # cb=plt.colorbar()\n",
    "# # cb.set_label('weighted count')\n",
    "# plt.title('NN (sig thresh) and Tight ID')"
   ]
  },
  {
   "cell_type": "code",
   "execution_count": null,
   "id": "a1f7c14a",
   "metadata": {},
   "outputs": [],
   "source": []
  },
  {
   "cell_type": "code",
   "execution_count": 39,
   "id": "a96331f9",
   "metadata": {},
   "outputs": [
    {
     "data": {
      "image/png": "[encoded data removed]",
      "text/plain": [
       "<Figure size 432x288 with 2 Axes>"
      ]
     },
     "metadata": {
      "needs_background": "light"
     },
     "output_type": "display_data"
    }
   ],
   "source": [
    "## do four bin 2dhistogram\n",
    "#separate by sig/bkg?\n",
    "\n",
    "##  NN (sig thresh) vs tight ID\n",
    "\n",
    "loose = df_all.y_IsLoose.ravel()\n",
    "\n",
    "weight = df_all.finalWeight.ravel()[loose]\n",
    "\n",
    "x = df_all.y_pred_test.ravel() > sig_thresh\n",
    "x = x[loose]*1\n",
    "y = df_all.y_IsTight[loose]*1\n",
    "\n",
    "# heatmap, xedges, yedges = np.histogram2d(x, y, bins=[2,2], weights=df_all.finalWeight.ravel()[loose])\n",
    "# extent = [xedges[0], xedges[-1], yedges[0], yedges[-1]]\n",
    "\n",
    "# plt.clf()\n",
    "# plt.imshow(heatmap.T, origin='lower')#, norm=colors.LogNorm(vmin=4e8))#,extent=extent)\n",
    "\n",
    "# cb = plt.colorbar()\n",
    "# cb.set_label('weighted count') \n",
    "\n",
    "# plt.title('NN and Tight ID')\n",
    "# plt.xlabel('NN Threshold ID (wrong scale)')\n",
    "# plt.ylabel('TightID (wrong scale)')\n",
    "# plt.show()\n",
    "\n",
    "matrix = confusion_matrix(y, x,sample_weight=weight)  #first is y axis, second is x axis\n",
    "\n",
    "disp = ConfusionMatrixDisplay(confusion_matrix=matrix,display_labels=['False', 'True'])\n",
    "\n",
    "disp.plot()\n",
    "plt.ylabel('Tight !Loose photon ID')\n",
    "plt.xlabel('NN Threshold ID (sig. thresh.)')\n",
    "# plt.imshow(norm=colors.LogNorm())\n",
    "# cb=plt.colorbar()\n",
    "# cb.set_label('weighted count')\n",
    "plt.title('NN (sig thresh) and Tight ID')\n",
    "plt.savefig('plots/NN_TightID/'+version+conv+'_'+size+standstr+'_sigthresh.png',dpi=360,format='png')"
   ]
  },
  {
   "cell_type": "code",
   "execution_count": 40,
   "id": "0a1e3cfb",
   "metadata": {},
   "outputs": [
    {
     "data": {
      "image/png": "[encoded data removed]",
      "text/plain": [
       "<Figure size 432x288 with 2 Axes>"
      ]
     },
     "metadata": {
      "needs_background": "light"
     },
     "output_type": "display_data"
    }
   ],
   "source": [
    "##  NN (bkg thresh) vs tight ID\n",
    "\n",
    "loose = df_all.y_IsLoose.ravel()\n",
    "\n",
    "weight = df_all.finalWeight.ravel()[loose]\n",
    "\n",
    "x = df_all.y_pred_test.ravel() > bkg_thresh\n",
    "x = x[loose]*1\n",
    "y = df_all.y_IsTight[loose]*1\n",
    "\n",
    "# heatmap, xedges, yedges = np.histogram2d(x, y, bins=[2,2], weights=df_all.finalWeight.ravel()[loose])\n",
    "# extent = [xedges[0], xedges[-1], yedges[0], yedges[-1]]\n",
    "\n",
    "# plt.clf()\n",
    "# plt.imshow(heatmap.T, origin='lower')#, norm=colors.LogNorm(vmin=4e8))#,extent=extent)\n",
    "\n",
    "# cb = plt.colorbar()\n",
    "# cb.set_label('weighted count') \n",
    "\n",
    "# plt.title('NN and Tight ID')\n",
    "# plt.xlabel('NN Threshold ID (wrong scale)')\n",
    "# plt.ylabel('TightID (wrong scale)')\n",
    "# plt.show()\n",
    "\n",
    "matrix = confusion_matrix(y, x,sample_weight=weight)  #first is y axis, second is x axis\n",
    "\n",
    "disp = ConfusionMatrixDisplay(confusion_matrix=matrix,display_labels=['False', 'True'])\n",
    "\n",
    "disp.plot()\n",
    "plt.ylabel('Tight !Loose photon ID')\n",
    "plt.xlabel('NN Threshold ID (bkg. thresh.)')\n",
    "# plt.imshow(norm=colors.LogNorm())\n",
    "# cb=plt.colorbar()\n",
    "# cb.set_label('weighted count')\n",
    "plt.title('NN (bkg thresh) and Tight ID')\n",
    "plt.savefig('plots/NN_TightID/'+version+conv+'_'+size+standstr+'_bkgthresh.png',dpi=360,format='png')"
   ]
  },
  {
   "cell_type": "code",
   "execution_count": null,
   "id": "99e1924d",
   "metadata": {},
   "outputs": [],
   "source": []
  },
  {
   "cell_type": "code",
   "execution_count": null,
   "id": "b9927d38",
   "metadata": {},
   "outputs": [],
   "source": []
  },
  {
   "cell_type": "code",
   "execution_count": 41,
   "id": "0c21b684",
   "metadata": {},
   "outputs": [
    {
     "data": {
      "image/png": "[encoded data removed]",
      "text/plain": [
       "<Figure size 432x288 with 2 Axes>"
      ]
     },
     "metadata": {
      "needs_background": "light"
     },
     "output_type": "display_data"
    }
   ],
   "source": [
    "### NN CONFUSION MATRIX:\n",
    "#(sig thresh)\n",
    "\n",
    "weight = df_all.finalWeight.ravel()\n",
    "x = df_all.y_pred_test.ravel() > sig_thresh\n",
    "y = df_all.y_isTruthMatchedPhoton.ravel()\n",
    "\n",
    "matrix = confusion_matrix(y, x,sample_weight=weight)  #first is y axis, second is x axis\n",
    "\n",
    "disp = ConfusionMatrixDisplay(confusion_matrix=matrix,display_labels=['False', 'True'])\n",
    "disp.plot()\n",
    "plt.title('NN Confusion Matrix (sig. thresh.)')\n",
    "plt.savefig('plots/confusion/'+version+conv+'_'+size+standstr+'_confsig.png',dpi=360,format='png')"
   ]
  },
  {
   "cell_type": "code",
   "execution_count": 42,
   "id": "11ea5f4c",
   "metadata": {},
   "outputs": [
    {
     "data": {
      "image/png": "[encoded data removed]",
      "text/plain": [
       "<Figure size 432x288 with 2 Axes>"
      ]
     },
     "metadata": {
      "needs_background": "light"
     },
     "output_type": "display_data"
    }
   ],
   "source": [
    "### NN CONFUSION MATRIX:\n",
    "#(bkg thresh)\n",
    "\n",
    "weight = df_all.finalWeight.ravel()\n",
    "x = df_all.y_pred_test.ravel() > bkg_thresh\n",
    "y = df_all.y_isTruthMatchedPhoton.ravel()\n",
    "\n",
    "matrix = confusion_matrix(y, x,sample_weight=weight)  #first is y axis, second is x axis\n",
    "\n",
    "disp = ConfusionMatrixDisplay(confusion_matrix=matrix,display_labels=['False', 'True'])\n",
    "disp.plot()\n",
    "plt.title('NN Confusion Matrix (bkg. thresh.)')\n",
    "plt.savefig('plots/confusion/'+version+conv+'_'+size+standstr+'_confbkg.png',dpi=360,format='png')"
   ]
  },
  {
   "cell_type": "code",
   "execution_count": null,
   "id": "3bdb313c",
   "metadata": {},
   "outputs": [],
   "source": []
  },
  {
   "cell_type": "code",
   "execution_count": null,
   "id": "181705d4",
   "metadata": {},
   "outputs": [],
   "source": []
  },
  {
   "cell_type": "code",
   "execution_count": 43,
   "id": "fecea7b7",
   "metadata": {},
   "outputs": [
    {
     "data": {
      "image/png": "[encoded data removed]",
      "text/plain": [
       "<Figure size 432x288 with 2 Axes>"
      ]
     },
     "metadata": {
      "needs_background": "light"
     },
     "output_type": "display_data"
    }
   ],
   "source": [
    "##  NN (sig thresh) vs tight isolation\n",
    "\n",
    "loose = df_all.y_iso_FixedCutLoose.ravel()\n",
    "\n",
    "weight = df_all.finalWeight.ravel()[loose]\n",
    "\n",
    "x = df_all.y_pred_test.ravel() > sig_thresh\n",
    "x = x[loose]*1\n",
    "y = df_all.y_iso_FixedCutTight[loose]*1\n",
    "\n",
    "# heatmap, xedges, yedges = np.histogram2d(x, y, bins=[2,2], weights=df_all.finalWeight.ravel()[loose])\n",
    "# extent = [xedges[0], xedges[-1], yedges[0], yedges[-1]]\n",
    "\n",
    "# plt.clf()\n",
    "# plt.imshow(heatmap.T, origin='lower')#, norm=colors.LogNorm(vmin=4e8))#,extent=extent)\n",
    "\n",
    "# cb = plt.colorbar()\n",
    "# cb.set_label('weighted count') \n",
    "\n",
    "# plt.title('NN and Tight ID')\n",
    "# plt.xlabel('NN Threshold ID (wrong scale)')\n",
    "# plt.ylabel('TightID (wrong scale)')\n",
    "# plt.show()\n",
    "\n",
    "matrix = confusion_matrix(y, x,sample_weight=weight)  #first is y axis, second is x axis\n",
    "\n",
    "disp = ConfusionMatrixDisplay(confusion_matrix=matrix,display_labels=['False', 'True'])\n",
    "\n",
    "disp.plot()\n",
    "plt.ylabel('Tight !Loose Iso.')\n",
    "plt.xlabel('NN Threshold ID (sig. thresh.)')\n",
    "# plt.imshow(norm=colors.LogNorm())\n",
    "# cb=plt.colorbar()\n",
    "# cb.set_label('weighted count')\n",
    "plt.title('NN (sig thresh) and Tight Isolation')\n",
    "plt.savefig('plots/iso/'+version+conv+'_'+size+standstr+'_isoNNsig.png',dpi=360,format='png')"
   ]
  },
  {
   "cell_type": "code",
   "execution_count": 44,
   "id": "1efccc44",
   "metadata": {},
   "outputs": [
    {
     "data": {
      "image/png": "[encoded data removed]",
      "text/plain": [
       "<Figure size 432x288 with 2 Axes>"
      ]
     },
     "metadata": {
      "needs_background": "light"
     },
     "output_type": "display_data"
    }
   ],
   "source": [
    "##  NN (bkg thresh) vs tight isolation\n",
    "\n",
    "loose = df_all.y_iso_FixedCutLoose.ravel()\n",
    "\n",
    "weight = df_all.finalWeight.ravel()[loose]\n",
    "\n",
    "x = df_all.y_pred_test.ravel() > bkg_thresh\n",
    "x = x[loose]*1\n",
    "y = df_all.y_iso_FixedCutTight[loose]*1\n",
    "\n",
    "# heatmap, xedges, yedges = np.histogram2d(x, y, bins=[2,2], weights=df_all.finalWeight.ravel()[loose])\n",
    "# extent = [xedges[0], xedges[-1], yedges[0], yedges[-1]]\n",
    "\n",
    "# plt.clf()\n",
    "# plt.imshow(heatmap.T, origin='lower')#, norm=colors.LogNorm(vmin=4e8))#,extent=extent)\n",
    "\n",
    "# cb = plt.colorbar()\n",
    "# cb.set_label('weighted count') \n",
    "\n",
    "# plt.title('NN and Tight ID')\n",
    "# plt.xlabel('NN Threshold ID (wrong scale)')\n",
    "# plt.ylabel('TightID (wrong scale)')\n",
    "# plt.show()\n",
    "\n",
    "matrix = confusion_matrix(y, x,sample_weight=weight)  #first is y axis, second is x axis\n",
    "\n",
    "disp = ConfusionMatrixDisplay(confusion_matrix=matrix,display_labels=['False', 'True'])\n",
    "\n",
    "disp.plot()\n",
    "plt.ylabel('Tight !Loose Iso.')\n",
    "plt.xlabel('NN Threshold ID (bkg. thresh.)')\n",
    "# plt.imshow(norm=colors.LogNorm())\n",
    "# cb=plt.colorbar()\n",
    "# cb.set_label('weighted count')\n",
    "plt.title('NN (bkg thresh) and Tight Isolation')\n",
    "plt.savefig('plots/iso/'+version+conv+'_'+size+standstr+'_isoNNbkg.png',dpi=360,format='png')"
   ]
  },
  {
   "cell_type": "code",
   "execution_count": 45,
   "id": "7750797e",
   "metadata": {},
   "outputs": [
    {
     "data": {
      "image/png": "[encoded data removed]",
      "text/plain": [
       "<Figure size 432x288 with 2 Axes>"
      ]
     },
     "metadata": {
      "needs_background": "light"
     },
     "output_type": "display_data"
    }
   ],
   "source": [
    "##  Tight ID vs tight isolation\n",
    "\n",
    "loose = df_all.y_iso_FixedCutLoose.ravel() & df_all.y_IsLoose.ravel()\n",
    "\n",
    "weight = df_all.finalWeight.ravel()[loose]\n",
    "\n",
    "x = df_all.y_IsTight.ravel()[loose]*1\n",
    "\n",
    "y = df_all.y_iso_FixedCutTight[loose]*1\n",
    "\n",
    "# heatmap, xedges, yedges = np.histogram2d(x, y, bins=[2,2], weights=df_all.finalWeight.ravel()[loose])\n",
    "# extent = [xedges[0], xedges[-1], yedges[0], yedges[-1]]\n",
    "\n",
    "# plt.clf()\n",
    "# plt.imshow(heatmap.T, origin='lower')#, norm=colors.LogNorm(vmin=4e8))#,extent=extent)\n",
    "\n",
    "# cb = plt.colorbar()\n",
    "# cb.set_label('weighted count') \n",
    "\n",
    "# plt.title('NN and Tight ID')\n",
    "# plt.xlabel('NN Threshold ID (wrong scale)')\n",
    "# plt.ylabel('TightID (wrong scale)')\n",
    "# plt.show()\n",
    "\n",
    "matrix = confusion_matrix(y, x,sample_weight=weight)  #first is y axis, second is x axis\n",
    "\n",
    "disp = ConfusionMatrixDisplay(confusion_matrix=matrix,display_labels=['False', 'True'])\n",
    "\n",
    "disp.plot()\n",
    "plt.ylabel('Tight !Loose Iso.')\n",
    "plt.xlabel('Tight !Loose photon ID')\n",
    "# plt.imshow(norm=colors.LogNorm())\n",
    "# cb=plt.colorbar()\n",
    "# cb.set_label('weighted count')\n",
    "plt.title('Tight ID and Tight Isolation')\n",
    "plt.savefig('plots/iso/'+version+conv+'_'+size+standstr+'_isoTightID.png',dpi=360,format='png')"
   ]
  },
  {
   "cell_type": "code",
   "execution_count": null,
   "id": "4faa4185",
   "metadata": {},
   "outputs": [],
   "source": []
  },
  {
   "cell_type": "code",
   "execution_count": null,
   "id": "278f3e96",
   "metadata": {},
   "outputs": [],
   "source": []
  },
  {
   "cell_type": "code",
   "execution_count": null,
   "id": "c08bb91b",
   "metadata": {},
   "outputs": [],
   "source": []
  },
  {
   "cell_type": "code",
   "execution_count": null,
   "id": "ae9cb5ee",
   "metadata": {},
   "outputs": [],
   "source": []
  },
  {
   "cell_type": "code",
   "execution_count": 91,
   "id": "a97ad48b",
   "metadata": {},
   "outputs": [],
   "source": [
    "def averageNNplot(df,y_pred,variable,binedges,log=False,variablelabel=False,dflabel='',minn=0,figname=False,xlabel='xlabel'):\n",
    "    \n",
    "    if variablelabel == False:\n",
    "        variablelabel = variable\n",
    "    if minn > 0:\n",
    "        minn = 0\n",
    "    \n",
    "    NNbinedges = binedges\n",
    "    binvals = []\n",
    "    \n",
    "    for i in range(len(NNbinedges)-1):\n",
    "        boolmask = (y_pred >= NNbinedges[i]) & (y_pred < NNbinedges[i+1])\n",
    "        variablelist = np.array(df[variable][boolmask])\n",
    "        weightlist = np.array(df['finalWeight'][boolmask])\n",
    "        if abs(sum(weightlist)) > 1e-9:\n",
    "            average = np.average(variablelist,weights=weightlist)\n",
    "        else:\n",
    "            average = 0\n",
    "        binvals.append(average)\n",
    "\n",
    "    leftedge = NNbinedges[:-1]\n",
    "    width = np.diff(NNbinedges)\n",
    "    plt.bar(leftedge,binvals,width,align='edge',edgecolor='k')\n",
    "    plt.grid(alpha=0.4)\n",
    "    plt.xlabel(xlabel);plt.ylabel(r'Weighted Average '+variablelabel)\n",
    "    plt.title(r'Average NN score as a function of '+xlabel+'\\n'+dflabel)\n",
    "    plt.ylim((0,1))\n",
    "    if log==True:\n",
    "        plt.xscale('log')\n",
    "    if bool(figname)==True:\n",
    "        plt.savefig(figname+'.png',dpi=360,format='png')\n",
    "    plt.show()\n",
    "    plt.close()"
   ]
  },
  {
   "cell_type": "code",
   "execution_count": 121,
   "id": "66fce98e",
   "metadata": {},
   "outputs": [],
   "source": [
    "\n",
    "binedgesETA = [0,0.6,0.8,1.15,1.37,1.52,1.81,2.01,2.37]\n",
    "binedgesET = [0,25,30,35,40,45,50,60,80,100,120,200,500,5000]\n"
   ]
  },
  {
   "cell_type": "code",
   "execution_count": 137,
   "id": "46cfaa25",
   "metadata": {},
   "outputs": [
    {
     "data": {
      "image/png": "[encoded data removed]",
      "text/plain": [
       "<Figure size 432x288 with 1 Axes>"
      ]
     },
     "metadata": {
      "needs_background": "light"
     },
     "output_type": "display_data"
    }
   ],
   "source": [
    "averageNNplot(df_all,df_all.y_eta.ravel(),'y_pred_test',binedgesETA,variablelabel='NN score',dflabel=version+conv+'_'+size+standstr,xlabel=r'photon $\\eta$',figname='plots/averageNN/'+version+conv+'_'+size+standstr+'_avgNNeta')"
   ]
  },
  {
   "cell_type": "code",
   "execution_count": 138,
   "id": "e6baac46",
   "metadata": {},
   "outputs": [
    {
     "data": {
      "image/png": "[encoded data removed]",
      "text/plain": [
       "<Figure size 432x288 with 1 Axes>"
      ]
     },
     "metadata": {
      "needs_background": "light"
     },
     "output_type": "display_data"
    }
   ],
   "source": [
    "averageNNplot(df_all,df_all.y_pt.ravel(),'y_pred_test',binedgesET,log=True,variablelabel='NN score',dflabel=version+conv+'_'+size+standstr,xlabel=r'photon $E_T$',figname='plots/averageNN/'+version+conv+'_'+size+standstr+'_avgNNet')"
   ]
  },
  {
   "cell_type": "code",
   "execution_count": null,
   "id": "58a21fe4",
   "metadata": {},
   "outputs": [],
   "source": []
  }
 ],
 "metadata": {
  "@webio": {
   "lastCommId": null,
   "lastKernelId": null
  },
  "kernelspec": {
   "display_name": "Python 3",
   "language": "python",
   "name": "python3"
  },
  "language_info": {
   "codemirror_mode": {
    "name": "ipython",
    "version": 3
   },
   "file_extension": ".py",
   "mimetype": "text/x-python",
   "name": "python",
   "nbconvert_exporter": "python",
   "pygments_lexer": "ipython3",
   "version": "3.9.12"
  }
 },
 "nbformat": 4,
 "nbformat_minor": 5
}
