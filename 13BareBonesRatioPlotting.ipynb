{
 "cells": [
  {
   "cell_type": "code",
   "execution_count": 1,
   "id": "cab0e82b",
   "metadata": {},
   "outputs": [],
   "source": [
    "#Mine\n",
    "import uproot\n",
    "import pandas as pd\n",
    "import numpy as np\n",
    "import boost_histogram as bh\n",
    "import matplotlib.pyplot as plt\n",
    "import pickle\n",
    "import gc\n",
    "import atlasplots as ap\n",
    "%matplotlib inline"
   ]
  },
  {
   "cell_type": "code",
   "execution_count": 4,
   "id": "6fad6578",
   "metadata": {},
   "outputs": [],
   "source": [
    "# #John's\n",
    "# import numpy as np\n",
    "# import tensorflow as tf\n",
    "# import os\n",
    "# import time\n",
    "# import sys\n",
    "# import matplotlib.pyplot as plt\n",
    "# from sklearn.metrics import roc_curve, auc\n",
    "# from datetime import datetime\n",
    "# import statistics as stat\n",
    "import ROOT\n",
    "# now = datetime.utcnow().strftime(\"%y%m%d%H%M%S\")"
   ]
  },
  {
   "cell_type": "code",
   "execution_count": 5,
   "id": "74a0b42f",
   "metadata": {},
   "outputs": [],
   "source": [
    "#importing file as pandas dataframe\n",
    "\n",
    "version = 'full_v01'\n",
    "df_evenc = pickle.load(open('/eos/user/k/kyklazek/SWAN_projects/UVic-Photons/photonstudy/TRAININGTEST/data/'+version+'_ec1mil_a.pickle', 'rb'))\n",
    "                                                         # in file name: 'e' means even, 'c' means converted, \n",
    "                                                         # '1mil' is 1 million events, \n",
    "                                                         # 'a' means its the *first* 1mil events of the larger file"
   ]
  },
  {
   "cell_type": "code",
   "execution_count": 6,
   "id": "c93b0c82",
   "metadata": {},
   "outputs": [],
   "source": [
    "import hist\n",
    "from hist import Hist"
   ]
  },
  {
   "cell_type": "code",
   "execution_count": 8,
   "id": "c41f4669",
   "metadata": {},
   "outputs": [],
   "source": [
    "binedgesETA = [0,0.6,0.8,1.15,1.37,1.52,1.81,2.01,2.37]\n",
    "binedgesET = [0,25,30,35,40,45,50,60,80,100,120,200,500,10000,1000000000]"
   ]
  },
  {
   "cell_type": "code",
   "execution_count": 11,
   "id": "b975f270",
   "metadata": {},
   "outputs": [
    {
     "data": {
      "image/png": "[encoded data removed]",
      "text/plain": [
       "<Figure size 720x576 with 2 Axes>"
      ]
     },
     "metadata": {
      "needs_background": "light"
     },
     "output_type": "display_data"
    }
   ],
   "source": [
    "#PLOTTING ETA SIGNAL and BKG\n",
    "\n",
    "#my code to make boost histos:      \n",
    "df_evenc['abs_eta']=abs(df_evenc.y_eta)\n",
    "bh_evensigETA = ap.makebhvar(df_evenc,'abs_eta',binedgesETA,boolslice=df_evenc.y_isTruthMatchedPhoton,weightname='finalWeight')\n",
    "bh_evenbkgETA = ap.makebhvar(df_evenc,'abs_eta',binedgesETA,boolslice=~df_evenc.y_isTruthMatchedPhoton,weightname='finalWeight')\n",
    "#for ap.makebhvar, see https://github.com/kyranks/photon-study/blob/3254227af9e634d75844145f44b21079056b1b1c/atlasplots.py#L111\n",
    "\n",
    "#from heather's code\n",
    "h1 = Hist(bh_evensigETA)\n",
    "h2 = Hist(bh_evenbkgETA)\n",
    "fig, axs = plt.subplots(2, 1, sharex=True, sharey=False,figsize=(10,8), gridspec_kw={'height_ratios': [3, 1]})\n",
    "axes_dict = {\"main_ax\": axs[0], \"ratio_ax\": axs[1]}\n",
    "main_ax_artists, sublot_ax_arists = h1.plot_ratio(\n",
    "    h2,\n",
    "    rp_ylabel=r\"Even Ratio\",\n",
    "    rp_num_label=\"signal\",\n",
    "    rp_denom_label=\"background\",\n",
    "    rp_uncert_draw_type=\"bar\",  # line or bar\n",
    "    ax_dict = axes_dict\n",
    ")\n",
    "\n",
    "top = 1e9\n",
    "bottom = 0; \n",
    "left = -0.03; right = 2.4\n",
    "axs[0].set_xlabel(\"\")\n",
    "axs[1].set_xlabel(\"eta\",position=(1,1),horizontalalignment='right')\n",
    "axs[0].set_ylabel(\"Number of events\",position=(0,1),horizontalalignment='right')\n",
    "axs[0].legend()\n",
    "\n",
    "\n",
    "axs[0].set_ylim(bottom=bottom); axs[0].set_ylim(top=top); \n",
    "axs[0].set_xlim(left=left); axs[0].set_xlim(right=right)\n",
    "axs[1].set_xlim(left=left); axs[1].set_xlim(right=right)\n",
    "axs[1].set_ylim(bottom=0.95); axs[1].set_ylim(top=1.05)\n",
    "\n",
    "axs[0].text((right-left)*0.02+left, (top-bottom)*0.9+bottom, 'ATLAS',style = 'italic',fontweight='bold',fontsize=20,horizontalalignment='left')\n",
    "axs[0].text((right-left)*0.165+left, (top-bottom)*0.9+bottom, 'Simulation Internal',fontsize=20,horizontalalignment='left')\n",
    "axs[0].text((right-left)*0.02+left, (top-bottom)*0.8+bottom, r'$\\sqrt{s} =$'+'13 TeV, 139 fb'+r'$^{-1}$',fontsize=20,horizontalalignment='left')\n",
    "\n",
    "#configures the size of gap between ratio and main plot\n",
    "fig.subplots_adjust(hspace=0)\n",
    "\n",
    "# fig.savefig(infolder+'Eiso_ratio_truthFiducail_recoPassOverFail.pdf',format='pdf')"
   ]
  },
  {
   "cell_type": "markdown",
   "id": "1ae5dfcb",
   "metadata": {},
   "source": [
    "## Question to answer is: Why are there no/very small uncertainties in the ratio subplot?"
   ]
  },
  {
   "cell_type": "code",
   "execution_count": null,
   "id": "7b683f34",
   "metadata": {},
   "outputs": [],
   "source": []
  }
 ],
 "metadata": {
  "kernelspec": {
   "display_name": "Python 3",
   "language": "python",
   "name": "python3"
  },
  "language_info": {
   "codemirror_mode": {
    "name": "ipython",
    "version": 3
   },
   "file_extension": ".py",
   "mimetype": "text/x-python",
   "name": "python",
   "nbconvert_exporter": "python",
   "pygments_lexer": "ipython3",
   "version": "3.9.12"
  }
 },
 "nbformat": 4,
 "nbformat_minor": 5
}
