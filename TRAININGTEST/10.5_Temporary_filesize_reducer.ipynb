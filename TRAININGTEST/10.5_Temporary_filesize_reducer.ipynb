{
 "cells": [
  {
   "cell_type": "code",
   "execution_count": 1,
   "id": "4a919f30",
   "metadata": {},
   "outputs": [],
   "source": [
    "#Mine\n",
    "import uproot\n",
    "import pandas as pd\n",
    "import numpy as np\n",
    "import boost_histogram as bh\n",
    "import matplotlib.pyplot as plt\n",
    "import pickle\n",
    "import gc\n",
    "# import atlasplots as ap\n",
    "%matplotlib inline"
   ]
  },
  {
   "cell_type": "code",
   "execution_count": 2,
   "id": "063879fb",
   "metadata": {},
   "outputs": [],
   "source": [
    "import sys\n",
    " \n",
    "# setting path\n",
    "sys.path.append('..')\n",
    " \n",
    "# importing\n",
    "import atlasplots as ap"
   ]
  },
  {
   "cell_type": "code",
   "execution_count": 3,
   "id": "15fb80da",
   "metadata": {},
   "outputs": [],
   "source": [
    "version = 'full_v01'\n",
    "converted = True   #False for unconverted, True for converted    ##ACTUALLY FIX THIS TO DO SOMETHING"
   ]
  },
  {
   "cell_type": "code",
   "execution_count": 4,
   "id": "31af6c73",
   "metadata": {},
   "outputs": [],
   "source": [
    "with open('../picklefiles/'+version+'df_mc20_conv_even.pickle', 'rb') as file:\n",
    "    df_evenc = pickle.load(file)\n",
    "    file.close()\n"
   ]
  },
  {
   "cell_type": "code",
   "execution_count": 5,
   "id": "3d9be92f",
   "metadata": {},
   "outputs": [],
   "source": [
    "ap.picklewrite(df_evenc.iloc[:1000000],version+'_ec1mil_a.pickle',filepath='data/')  #e=even, c=converted, 1mil=number of events, a=first 1mil events"
   ]
  },
  {
   "cell_type": "code",
   "execution_count": 6,
   "id": "5a605dfd",
   "metadata": {},
   "outputs": [],
   "source": [
    "ap.picklewrite(df_evenc.iloc[-1000000:],version+'_ec1mil_z.pickle',filepath='data/') #e=even, c=converted, 1mil=number of events, z=last 1mil events"
   ]
  },
  {
   "cell_type": "code",
   "execution_count": null,
   "id": "04749864",
   "metadata": {},
   "outputs": [],
   "source": []
  }
 ],
 "metadata": {
  "@webio": {
   "lastCommId": null,
   "lastKernelId": null
  },
  "kernelspec": {
   "display_name": "Python 3",
   "language": "python",
   "name": "python3"
  },
  "language_info": {
   "codemirror_mode": {
    "name": "ipython",
    "version": 3
   },
   "file_extension": ".py",
   "mimetype": "text/x-python",
   "name": "python",
   "nbconvert_exporter": "python",
   "pygments_lexer": "ipython3",
   "version": "3.9.12"
  }
 },
 "nbformat": 4,
 "nbformat_minor": 5
}
